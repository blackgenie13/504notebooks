{
 "cells": [
  {
   "cell_type": "markdown",
   "metadata": {},
   "source": [
    "## Data Frames\n",
    "Here is a built-in example data frame with 52 rows (we preview the first few):"
   ]
  },
  {
   "cell_type": "code",
   "execution_count": 8,
   "metadata": {
    "collapsed": false
   },
   "outputs": [
    {
     "data": {
      "text/html": [
       "<table>\n",
       "<thead><tr><th></th><th scope=col>breaks</th><th scope=col>wool</th><th scope=col>tension</th></tr></thead>\n",
       "<tbody>\n",
       "\t<tr><th scope=row>1</th><td>26</td><td>A</td><td>L</td></tr>\n",
       "\t<tr><th scope=row>2</th><td>30</td><td>A</td><td>L</td></tr>\n",
       "\t<tr><th scope=row>3</th><td>54</td><td>A</td><td>L</td></tr>\n",
       "\t<tr><th scope=row>4</th><td>25</td><td>A</td><td>L</td></tr>\n",
       "\t<tr><th scope=row>5</th><td>70</td><td>A</td><td>L</td></tr>\n",
       "\t<tr><th scope=row>6</th><td>52</td><td>A</td><td>L</td></tr>\n",
       "</tbody>\n",
       "</table>\n"
      ],
      "text/latex": [
       "\\begin{tabular}{r|lll}\n",
       "  & breaks & wool & tension\\\\\n",
       "\\hline\n",
       "\t1 & 26 & A & L\\\\\n",
       "\t2 & 30 & A & L\\\\\n",
       "\t3 & 54 & A & L\\\\\n",
       "\t4 & 25 & A & L\\\\\n",
       "\t5 & 70 & A & L\\\\\n",
       "\t6 & 52 & A & L\\\\\n",
       "\\end{tabular}\n"
      ],
      "text/plain": [
       "  breaks wool tension\n",
       "1     26    A       L\n",
       "2     30    A       L\n",
       "3     54    A       L\n",
       "4     25    A       L\n",
       "5     70    A       L\n",
       "6     52    A       L"
      ]
     },
     "execution_count": 8,
     "metadata": {},
     "output_type": "execute_result"
    }
   ],
   "source": [
    "head(warpbreaks) "
   ]
  },
  {
   "cell_type": "markdown",
   "metadata": {},
   "source": [
    "Ignoring the \"breaks\" attribute, let's make a contingency table of counts. We're using the GLM syntax to describe which columns we want, nothing explained \"~\" by the wool and tension variables."
   ]
  },
  {
   "cell_type": "code",
   "execution_count": 15,
   "metadata": {
    "collapsed": false
   },
   "outputs": [],
   "source": [
    "ct = xtabs(~wool+tension, data=warpbreaks)"
   ]
  },
  {
   "cell_type": "code",
   "execution_count": 16,
   "metadata": {
    "collapsed": false
   },
   "outputs": [
    {
     "data": {
      "text/plain": [
       "    tension\n",
       "wool L M H\n",
       "   A 9 9 9\n",
       "   B 9 9 9"
      ]
     },
     "execution_count": 16,
     "metadata": {},
     "output_type": "execute_result"
    }
   ],
   "source": [
    "ct"
   ]
  },
  {
   "cell_type": "code",
   "execution_count": 23,
   "metadata": {
    "collapsed": false
   },
   "outputs": [
    {
     "data": {
      "text/html": [
       "TRUE"
      ],
      "text/latex": [
       "TRUE"
      ],
      "text/markdown": [
       "TRUE"
      ],
      "text/plain": [
       "[1] TRUE"
      ]
     },
     "execution_count": 23,
     "metadata": {},
     "output_type": "execute_result"
    }
   ],
   "source": [
    "is.table(ct)"
   ]
  },
  {
   "cell_type": "markdown",
   "metadata": {},
   "source": [
    "We can also use the table function, which converts a dataframe into a tabke, and the margin.table function, which marginalizes a table, to accomplish this."
   ]
  },
  {
   "cell_type": "code",
   "execution_count": 24,
   "metadata": {
    "collapsed": false
   },
   "outputs": [
    {
     "data": {
      "text/plain": [
       ", , tension = L\n",
       "\n",
       "      wool\n",
       "breaks A B\n",
       "    10 0 0\n",
       "    12 0 0\n",
       "    13 0 0\n",
       "    14 0 1\n",
       "    15 0 0\n",
       "    16 0 0\n",
       "    17 0 0\n",
       "    18 0 0\n",
       "    19 0 1\n",
       "    20 0 1\n",
       "    21 0 0\n",
       "    24 0 0\n",
       "    25 1 0\n",
       "    26 2 0\n",
       "    27 0 1\n",
       "    28 0 0\n",
       "    29 0 2\n",
       "    30 1 0\n",
       "    31 0 1\n",
       "    35 0 0\n",
       "    36 0 0\n",
       "    39 0 0\n",
       "    41 0 1\n",
       "    42 0 0\n",
       "    43 0 0\n",
       "    44 0 1\n",
       "    51 1 0\n",
       "    52 1 0\n",
       "    54 1 0\n",
       "    67 1 0\n",
       "    70 1 0\n",
       "\n",
       ", , tension = M\n",
       "\n",
       "      wool\n",
       "breaks A B\n",
       "    10 0 0\n",
       "    12 1 0\n",
       "    13 0 0\n",
       "    14 0 0\n",
       "    15 0 0\n",
       "    16 0 1\n",
       "    17 1 0\n",
       "    18 2 0\n",
       "    19 0 1\n",
       "    20 0 0\n",
       "    21 1 1\n",
       "    24 0 0\n",
       "    25 0 0\n",
       "    26 0 1\n",
       "    27 0 0\n",
       "    28 0 1\n",
       "    29 1 1\n",
       "    30 1 0\n",
       "    31 0 0\n",
       "    35 1 0\n",
       "    36 1 0\n",
       "    39 0 2\n",
       "    41 0 0\n",
       "    42 0 1\n",
       "    43 0 0\n",
       "    44 0 0\n",
       "    51 0 0\n",
       "    52 0 0\n",
       "    54 0 0\n",
       "    67 0 0\n",
       "    70 0 0\n",
       "\n",
       ", , tension = H\n",
       "\n",
       "      wool\n",
       "breaks A B\n",
       "    10 1 0\n",
       "    12 0 0\n",
       "    13 0 1\n",
       "    14 0 0\n",
       "    15 1 2\n",
       "    16 0 1\n",
       "    17 0 1\n",
       "    18 1 0\n",
       "    19 0 0\n",
       "    20 0 1\n",
       "    21 1 1\n",
       "    24 1 1\n",
       "    25 0 0\n",
       "    26 1 0\n",
       "    27 0 0\n",
       "    28 1 1\n",
       "    29 0 0\n",
       "    30 0 0\n",
       "    31 0 0\n",
       "    35 0 0\n",
       "    36 1 0\n",
       "    39 0 0\n",
       "    41 0 0\n",
       "    42 0 0\n",
       "    43 1 0\n",
       "    44 0 0\n",
       "    51 0 0\n",
       "    52 0 0\n",
       "    54 0 0\n",
       "    67 0 0\n",
       "    70 0 0\n"
      ]
     },
     "execution_count": 24,
     "metadata": {},
     "output_type": "execute_result"
    }
   ],
   "source": [
    "table(warpbreaks)"
   ]
  },
  {
   "cell_type": "code",
   "execution_count": 30,
   "metadata": {
    "collapsed": false
   },
   "outputs": [
    {
     "data": {
      "text/plain": [
       "    tension\n",
       "wool L M H\n",
       "   A 9 9 9\n",
       "   B 9 9 9"
      ]
     },
     "execution_count": 30,
     "metadata": {},
     "output_type": "execute_result"
    }
   ],
   "source": [
    "margin.table(table(warpbreaks),c(2,3))"
   ]
  },
  {
   "cell_type": "code",
   "execution_count": null,
   "metadata": {
    "collapsed": true
   },
   "outputs": [],
   "source": []
  }
 ],
 "metadata": {
  "kernelspec": {
   "display_name": "R",
   "language": "R",
   "name": "ir"
  },
  "language_info": {
   "codemirror_mode": "r",
   "file_extension": ".r",
   "mimetype": "text/x-r-source",
   "name": "R",
   "pygments_lexer": "r",
   "version": "3.2.2"
  }
 },
 "nbformat": 4,
 "nbformat_minor": 0
}
