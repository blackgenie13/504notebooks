{
 "cells": [
  {
   "cell_type": "markdown",
   "metadata": {},
   "source": [
    "## Data Frames\n",
    "Here is a built-in example data frame with 52 rows (we preview the first few)"
   ]
  },
  {
   "cell_type": "code",
   "execution_count": 8,
   "metadata": {
    "collapsed": false
   },
   "outputs": [
    {
     "data": {
      "text/html": [
       "<table>\n",
       "<thead><tr><th></th><th scope=col>breaks</th><th scope=col>wool</th><th scope=col>tension</th></tr></thead>\n",
       "<tbody>\n",
       "\t<tr><th scope=row>1</th><td>26</td><td>A</td><td>L</td></tr>\n",
       "\t<tr><th scope=row>2</th><td>30</td><td>A</td><td>L</td></tr>\n",
       "\t<tr><th scope=row>3</th><td>54</td><td>A</td><td>L</td></tr>\n",
       "\t<tr><th scope=row>4</th><td>25</td><td>A</td><td>L</td></tr>\n",
       "\t<tr><th scope=row>5</th><td>70</td><td>A</td><td>L</td></tr>\n",
       "\t<tr><th scope=row>6</th><td>52</td><td>A</td><td>L</td></tr>\n",
       "</tbody>\n",
       "</table>\n"
      ],
      "text/latex": [
       "\\begin{tabular}{r|lll}\n",
       "  & breaks & wool & tension\\\\\n",
       "\\hline\n",
       "\t1 & 26 & A & L\\\\\n",
       "\t2 & 30 & A & L\\\\\n",
       "\t3 & 54 & A & L\\\\\n",
       "\t4 & 25 & A & L\\\\\n",
       "\t5 & 70 & A & L\\\\\n",
       "\t6 & 52 & A & L\\\\\n",
       "\\end{tabular}\n"
      ],
      "text/plain": [
       "  breaks wool tension\n",
       "1     26    A       L\n",
       "2     30    A       L\n",
       "3     54    A       L\n",
       "4     25    A       L\n",
       "5     70    A       L\n",
       "6     52    A       L"
      ]
     },
     "execution_count": 8,
     "metadata": {},
     "output_type": "execute_result"
    }
   ],
   "source": [
    "head(warpbreaks) "
   ]
  },
  {
   "cell_type": "markdown",
   "metadata": {},
   "source": [
    "ignoring the \"breaks\" attribute, let's make a contingency table of counts. We're using the GLM syntax to describe which columns we want, nothing explained \"~\" by the wool and tension variables"
   ]
  },
  {
   "cell_type": "code",
   "execution_count": 11,
   "metadata": {
    "collapsed": false
   },
   "outputs": [
    {
     "data": {
      "text/plain": [
       "    tension\n",
       "wool L M H\n",
       "   A 9 9 9\n",
       "   B 9 9 9"
      ]
     },
     "execution_count": 11,
     "metadata": {},
     "output_type": "execute_result"
    }
   ],
   "source": [
    "xtabs(~wool+tension, data=warpbreaks)"
   ]
  },
  {
   "cell_type": "code",
   "execution_count": null,
   "metadata": {
    "collapsed": true
   },
   "outputs": [],
   "source": []
  }
 ],
 "metadata": {
  "kernelspec": {
   "display_name": "R",
   "language": "R",
   "name": "ir"
  },
  "language_info": {
   "codemirror_mode": "r",
   "file_extension": ".r",
   "mimetype": "text/x-r-source",
   "name": "R",
   "pygments_lexer": "r",
   "version": "3.2.2"
  }
 },
 "nbformat": 4,
 "nbformat_minor": 0
}
